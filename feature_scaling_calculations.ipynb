{
 "cells": [
  {
   "cell_type": "code",
   "execution_count": 4,
   "metadata": {},
   "outputs": [
    {
     "data": {
      "text/plain": [
       "180.9"
      ]
     },
     "execution_count": 4,
     "metadata": {},
     "output_type": "execute_result"
    }
   ],
   "source": [
    "cameron_weight = 175\n",
    "cameron_height = 5.9\n",
    "cameron_total = cameron_weight + cameron_height\n",
    "cameron_total"
   ]
  },
  {
   "cell_type": "code",
   "execution_count": 3,
   "metadata": {},
   "outputs": [
    {
     "data": {
      "text/plain": [
       "120.2"
      ]
     },
     "execution_count": 3,
     "metadata": {},
     "output_type": "execute_result"
    }
   ],
   "source": [
    "sarah_w = 115\n",
    "sarah_h = 5.2\n",
    "sarah_total = sarah_w + sarah_h\n",
    "sarah_total"
   ]
  },
  {
   "cell_type": "code",
   "execution_count": 7,
   "metadata": {},
   "outputs": [
    {
     "name": "stdout",
     "output_type": "stream",
     "text": [
      "Chris to Sarah is 25.9 and Chris to Cameron is 34.8\n"
     ]
    }
   ],
   "source": [
    "chris_total = 146.1\n",
    "chris_to_sarah_distance = abs(chris_total - sarah_total)\n",
    "chris_to_cameron_distance = abs(chris_total - cameron_total)\n",
    "print(\"Chris to Sarah is %.1f and Chris to Cameron is %.1f\" %((chris_to_sarah_distance, chris_to_cameron_distance)))"
   ]
  }
 ],
 "metadata": {
  "kernelspec": {
   "display_name": "Python 3",
   "language": "python",
   "name": "python3"
  },
  "language_info": {
   "codemirror_mode": {
    "name": "ipython",
    "version": 3
   },
   "file_extension": ".py",
   "mimetype": "text/x-python",
   "name": "python",
   "nbconvert_exporter": "python",
   "pygments_lexer": "ipython3",
   "version": "3.6.6"
  }
 },
 "nbformat": 4,
 "nbformat_minor": 2
}
