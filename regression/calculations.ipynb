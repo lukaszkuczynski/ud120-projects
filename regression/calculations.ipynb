{
 "cells": [
  {
   "cell_type": "code",
   "execution_count": 12,
   "metadata": {},
   "outputs": [
    {
     "name": "stdout",
     "output_type": "stream",
     "text": [
      "net worth = 6.250000 age + 0.000000\n"
     ]
    }
   ],
   "source": [
    "max_net = float(500.0)\n",
    "max_age = float(80.0)\n",
    "net_worth = max_net / max_age\n",
    "# net_worth_b = max_net % max_age\n",
    "print(\"net worth = %f age + %f\" % (net_worth, 0))"
   ]
  }
 ],
 "metadata": {
  "kernelspec": {
   "display_name": "Python 2",
   "language": "python",
   "name": "python2"
  },
  "language_info": {
   "codemirror_mode": {
    "name": "ipython",
    "version": 2
   },
   "file_extension": ".py",
   "mimetype": "text/x-python",
   "name": "python",
   "nbconvert_exporter": "python",
   "pygments_lexer": "ipython2",
   "version": "2.7.13"
  }
 },
 "nbformat": 4,
 "nbformat_minor": 2
}
