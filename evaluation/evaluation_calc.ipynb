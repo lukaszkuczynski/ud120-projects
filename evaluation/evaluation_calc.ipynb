{
 "cells": [
  {
   "cell_type": "markdown",
   "metadata": {},
   "source": [
    "# #15 Evaluation"
   ]
  },
  {
   "cell_type": "markdown",
   "metadata": {},
   "source": [
    "## Politicians"
   ]
  },
  {
   "cell_type": "code",
   "execution_count": 4,
   "metadata": {},
   "outputs": [
    {
     "data": {
      "text/plain": [
       "0.625"
      ]
     },
     "execution_count": 4,
     "metadata": {},
     "output_type": "execute_result"
    }
   ],
   "source": [
    "chavez_all = 16\n",
    "chavez_true = 10\n",
    "acc = chavez_true / chavez_all\n",
    "acc"
   ]
  },
  {
   "cell_type": "code",
   "execution_count": 7,
   "metadata": {},
   "outputs": [
    {
     "name": "stdout",
     "output_type": "stream",
     "text": [
      "precision is 0.82\n",
      "recall is 0.87\n"
     ]
    }
   ],
   "source": [
    "colin_truly = 55 + 8\n",
    "colin_labeled = 55 + 12\n",
    "colin_labeled_correctly = 55\n",
    "recall = colin_labeled_correctly / colin_truly\n",
    "precision = colin_labeled_correctly / colin_labeled\n",
    "print(\"precision is %.2f\" % precision)\n",
    "print(\"recall is %.2f\" % recall)"
   ]
  },
  {
   "cell_type": "code",
   "execution_count": 9,
   "metadata": {},
   "outputs": [
    {
     "name": "stdout",
     "output_type": "stream",
     "text": [
      "precision is 0.79\n",
      "recall is 0.97\n"
     ]
    }
   ],
   "source": [
    "bush_labeled_and_truly = 123\n",
    "bush_truly = bush_labeled_and_truly + 3 + 1\n",
    "bush_labeled = bush_labeled_and_truly + 1 + 8 + 8 + 7 + 2 + 7\n",
    "recall = bush_labeled_and_truly / bush_truly\n",
    "precision = bush_labeled_and_truly / bush_labeled\n",
    "print(\"precision is %.2f\" % precision)\n",
    "print(\"recall is %.2f\" % recall)"
   ]
  }
 ],
 "metadata": {
  "kernelspec": {
   "display_name": "Python 3",
   "language": "python",
   "name": "python3"
  },
  "language_info": {
   "codemirror_mode": {
    "name": "ipython",
    "version": 3
   },
   "file_extension": ".py",
   "mimetype": "text/x-python",
   "name": "python",
   "nbconvert_exporter": "python",
   "pygments_lexer": "ipython3",
   "version": "3.6.6"
  }
 },
 "nbformat": 4,
 "nbformat_minor": 2
}
